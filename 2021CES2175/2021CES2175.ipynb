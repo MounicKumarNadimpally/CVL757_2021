{
 "cells": [
  {
   "cell_type": "markdown",
   "metadata": {},
   "source": [
    "<h1>FEM Assignment 1"
   ]
  },
  {
   "cell_type": "markdown",
   "metadata": {},
   "source": [
    "<h3>Q1: Reversing a list"
   ]
  },
  {
   "cell_type": "code",
   "execution_count": 1,
   "metadata": {},
   "outputs": [],
   "source": [
    "#following are sample input and corresponding outputs\n",
    "Input  = [12, 35, 9, 56, 24]\n",
    "Output = [24, 35, 9, 56, 12]\n",
    "\n",
    "Input  = [1, 2, 3]\n",
    "Output = [3, 2, 1]"
   ]
  },
  {
   "cell_type": "code",
   "execution_count": 2,
   "metadata": {},
   "outputs": [
    {
     "name": "stdout",
     "output_type": "stream",
     "text": [
      "[24, 56, 9, 35, 12]\n",
      "[3, 2, 1]\n"
     ]
    }
   ],
   "source": [
    "#write your solution here to reverse a list\n",
    "Input = [12,35,9,56,24]\n",
    "Input.reverse()\n",
    "print(Input)\n",
    "\n",
    "Input  = [1, 2, 3]\n",
    "Input.reverse()\n",
    "print(Input)\n"
   ]
  },
  {
   "cell_type": "markdown",
   "metadata": {},
   "source": [
    "<h3>Q2: Swapping elements in lists"
   ]
  },
  {
   "cell_type": "code",
   "execution_count": 3,
   "metadata": {},
   "outputs": [],
   "source": [
    "Input  = [12, 35, 9, 56, 24]\n",
    "Output = [12, 9, 35, 56, 24]"
   ]
  },
  {
   "cell_type": "code",
   "execution_count": 4,
   "metadata": {},
   "outputs": [
    {
     "name": "stdout",
     "output_type": "stream",
     "text": [
      "[12, 9, 35, 56, 24]\n"
     ]
    }
   ],
   "source": [
    "#write your solution here\n",
    "Input  = [12, 35, 9, 56, 24]\n",
    "Input[1],Input[2] = Input[2],Input[1]\n",
    "print(Input)\n",
    "\n"
   ]
  },
  {
   "cell_type": "markdown",
   "metadata": {},
   "source": [
    "<h3>Q3: Reversing a string"
   ]
  },
  {
   "cell_type": "code",
   "execution_count": 5,
   "metadata": {},
   "outputs": [],
   "source": [
    "input_str  = 'This is CVL757'\n",
    "output_str = '757LVC si sihT'"
   ]
  },
  {
   "cell_type": "code",
   "execution_count": 6,
   "metadata": {},
   "outputs": [
    {
     "name": "stdout",
     "output_type": "stream",
     "text": [
      "757LVC si sihT\n"
     ]
    }
   ],
   "source": [
    "#write your solution here\n",
    "input_str  = 'This is CVL757'\n",
    "print(input_str[::-1])"
   ]
  },
  {
   "cell_type": "markdown",
   "metadata": {},
   "source": [
    "<h3>Q4: Reversing the order of words in a string"
   ]
  },
  {
   "cell_type": "code",
   "execution_count": 7,
   "metadata": {},
   "outputs": [],
   "source": [
    "input_str  = 'This is CVL757'\n",
    "output_str = 'CVL757 is This'"
   ]
  },
  {
   "cell_type": "code",
   "execution_count": 8,
   "metadata": {},
   "outputs": [
    {
     "name": "stdout",
     "output_type": "stream",
     "text": [
      "['CVL757', 'is', 'This']\n"
     ]
    }
   ],
   "source": [
    "#write your solution here\n",
    "input_str = \"This is CVL757\"\n",
    "input_str = input_str.split()\n",
    "print(input_str[::-1])"
   ]
  },
  {
   "cell_type": "markdown",
   "metadata": {},
   "source": [
    "<h3>Q5: Initialise a 3x3 matrix with random values, use numpy"
   ]
  },
  {
   "cell_type": "code",
   "execution_count": 18,
   "metadata": {},
   "outputs": [],
   "source": [
    "random_matrix = #write solution here"
   ]
  },
  {
   "cell_type": "code",
   "execution_count": 9,
   "metadata": {},
   "outputs": [
    {
     "name": "stdout",
     "output_type": "stream",
     "text": [
      "[[0.80802028 0.78301546 0.97300472]\n",
      " [0.65625019 0.01887108 0.38011118]\n",
      " [0.81249292 0.7629806  0.40961187]]\n"
     ]
    }
   ],
   "source": [
    "import numpy as np\n",
    "mat = np.random.rand(3,3)\n",
    "print(mat)"
   ]
  },
  {
   "cell_type": "markdown",
   "metadata": {},
   "source": [
    "<h3>Q6: Swap the columns of random_matrix"
   ]
  },
  {
   "cell_type": "code",
   "execution_count": 10,
   "metadata": {},
   "outputs": [],
   "source": [
    "inp = np.array([[0.13806091, 0.82474243, 0.15646752],\n",
    "                [0.50029824, 0.45875794, 0.53401557],\n",
    "                [0.95397773, 0.79407795, 0.07442586]])\n",
    "\n",
    "out = np.array([[0.15646752, 0.82474243, 0.13806091],\n",
    "                [0.53401557, 0.45875794, 0.50029824],\n",
    "                [0.07442586, 0.79407795, 0.95397773]])\n",
    "\n"
   ]
  },
  {
   "cell_type": "code",
   "execution_count": 11,
   "metadata": {},
   "outputs": [
    {
     "name": "stdout",
     "output_type": "stream",
     "text": [
      "[[0.15646752 0.82474243 0.13806091]\n",
      " [0.53401557 0.45875794 0.50029824]\n",
      " [0.07442586 0.79407795 0.95397773]]\n"
     ]
    }
   ],
   "source": [
    "import numpy as np\n",
    "inp = np.array([[0.13806091, 0.82474243, 0.15646752],\n",
    "                [0.50029824, 0.45875794, 0.53401557],\n",
    "                [0.95397773, 0.79407795, 0.07442586]])\n",
    "inp[:,[0,2]] = inp[:,[2,0]]\n",
    "print(inp)\n"
   ]
  },
  {
   "cell_type": "markdown",
   "metadata": {},
   "source": [
    "<h3>Q7: Swap the rows of random_matrix"
   ]
  },
  {
   "cell_type": "code",
   "execution_count": 12,
   "metadata": {},
   "outputs": [],
   "source": [
    "inp = np.array([[0.13806091, 0.82474243, 0.15646752],\n",
    "               [0.50029824, 0.45875794, 0.53401557],\n",
    "               [0.95397773, 0.79407795, 0.07442586]])\n",
    "\n",
    "out = np.array([[0.95397773, 0.79407795, 0.07442586],\n",
    "               [0.50029824, 0.45875794, 0.53401557],\n",
    "               [0.13806091, 0.82474243, 0.15646752]])"
   ]
  },
  {
   "cell_type": "code",
   "execution_count": 1,
   "metadata": {},
   "outputs": [
    {
     "name": "stdout",
     "output_type": "stream",
     "text": [
      "[[0.95397773 0.79407795 0.07442586]\n",
      " [0.50029824 0.45875794 0.53401557]\n",
      " [0.13806091 0.82474243 0.15646752]]\n"
     ]
    }
   ],
   "source": [
    "import numpy as np\n",
    "inp = np.array([[0.13806091, 0.82474243, 0.15646752],\n",
    "               [0.50029824, 0.45875794, 0.53401557],\n",
    "               [0.95397773, 0.79407795, 0.07442586]])\n",
    "inp[[0,2]] = inp[[2,0]]\n",
    "\n",
    "print(inp)"
   ]
  },
  {
   "cell_type": "markdown",
   "metadata": {},
   "source": [
    "<h3>Q8: Plot the sine and cosine curves as shown below"
   ]
  },
  {
   "cell_type": "code",
   "execution_count": 2,
   "metadata": {},
   "outputs": [],
   "source": [
    "import matplotlib.pyplot as plt"
   ]
  },
  {
   "cell_type": "code",
   "execution_count": 3,
   "metadata": {},
   "outputs": [
    {
     "data": {
      "image/png": "[encoded data removed]",
      "text/plain": [
       "<Figure size 432x288 with 1 Axes>"
      ]
     },
     "metadata": {
      "needs_background": "light"
     },
     "output_type": "display_data"
    }
   ],
   "source": [
    "import numpy as np\n",
    "import matplotlib.pyplot as plt\n",
    "\n",
    "x = np.arange(0,2*np.pi,0.01)\n",
    "y = np.sin(x)\n",
    "z = np.cos(x)\n",
    "plt.plot (x,y,label = \"sin\")\n",
    "plt.plot(x,z,label = \"cos\")\n",
    "plt.legend()\n",
    "plt.show()\n",
    "\n",
    "\n"
   ]
  },
  {
   "cell_type": "markdown",
   "metadata": {},
   "source": [
    "<h3>Q9: Plot the following truss</h3>\n",
    "Length of element 2, 6 and 9 (between nodes 1 and 3, 3 and 5, and 5 and 9) is 5.<br>\n",
    "Length of element 3 and 7 is 7m.\n",
    " "
   ]
  },
  {
   "cell_type": "markdown",
   "metadata": {},
   "source": [
    "<img src='q9.svg' alt=\"Truss Q9\" width=\"500\" height=\"600\">"
   ]
  },
  {
   "cell_type": "code",
   "execution_count": 4,
   "metadata": {},
   "outputs": [
    {
     "data": {
      "image/png": "[encoded data removed]",
      "text/plain": [
       "<Figure size 450x300 with 1 Axes>"
      ]
     },
     "metadata": {
      "needs_background": "light"
     },
     "output_type": "display_data"
    }
   ],
   "source": [
    "from matplotlib.pyplot import figure\n",
    "figure(figsize=(9, 6), dpi=50)\n",
    "\n",
    "nodes= [(0,0), (5,7), (5,0), (10,7), (10,0), (15,0) ]   #node coordinates\n",
    "\n",
    "numbering =[(1,2), (1,3), (2,3), (2,4), (2,5), (3,5), (4,5), (4,6),(5,6)] #Element Global Numbering\n",
    "\n",
    "x=list()\n",
    "y=list()\n",
    "for i in range(len(numbering)):\n",
    "    x1,x2=nodes [numbering[i][0]-1][0],nodes [numbering[i][1]-1][0]\n",
    "    y1,y2=nodes [numbering[i][0]-1][1],nodes [numbering[i][1]-1][1]\n",
    "    x.append(x1),x.append(x2),y.append(y1),y.append(y2)\n",
    "plt.plot(x,y,'-go',label='Inital',linewidth=1)\n",
    "\n",
    "plt.legend()\n",
    "\n",
    "plt.show()"
   ]
  },
  {
   "cell_type": "markdown",
   "metadata": {},
   "source": [
    "**Q10: Consider the plane truss shown above. Given E = 200GPa and A = 0.005m2,\n",
    "determine and horizontal load of 20kN at node 2. Both node 1 and node 6 have pin supports:**\n",
    "\n",
    "1. the global stiffness matrix for the structure.\n",
    "2. the horizontal and vertical displacements at nodes 2, 3, 4, and 5.\n",
    "3. the horizontal and vertical reactions at nodes 1 and 6.\n",
    "4. the stress in each element."
   ]
  },
  {
   "cell_type": "markdown",
   "metadata": {},
   "source": [
    "<H1>BONUS QUESTION</H1>\n",
    "Plot the defomred shape of truss obtained in Q10"
   ]
  },
  {
   "cell_type": "code",
   "execution_count": 16,
   "metadata": {},
   "outputs": [
    {
     "name": "stdout",
     "output_type": "stream",
     "text": [
      "Global Stiffness matrix   \n",
      " [[ 2392728.50926966   549819.91297752  -392728.50926966  -549819.91297752\n",
      "  -2000000.                0.                0.                0.\n",
      "         0.                0.                0.                0.        ]\n",
      " [  549819.91297752   769747.87816853  -549819.91297752  -769747.87816853\n",
      "         0.                0.                0.                0.\n",
      "         0.                0.                0.                0.        ]\n",
      " [ -392728.50926966  -549819.91297752  2785457.01853932        0.\n",
      "         0.                0.         -2000000.                0.\n",
      "   -392728.50926966   549819.91297752        0.                0.        ]\n",
      " [ -549819.91297752  -769747.87816853        0.          2968067.18490849\n",
      "         0.         -1428571.42857143        0.                0.\n",
      "    549819.91297752  -769747.87816853        0.                0.        ]\n",
      " [-2000000.                0.                0.                0.\n",
      "   4000000.                0.                0.                0.\n",
      "  -2000000.                0.                0.                0.        ]\n",
      " [       0.                0.                0.         -1428571.42857143\n",
      "         0.          1428571.42857143        0.                0.\n",
      "         0.                0.                0.                0.        ]\n",
      " [       0.                0.         -2000000.                0.\n",
      "         0.                0.          2392728.50926966  -549819.91297752\n",
      "         0.                0.          -392728.50926966   549819.91297752]\n",
      " [       0.                0.                0.                0.\n",
      "         0.                0.          -549819.91297752  2198319.30673996\n",
      "         0.         -1428571.42857143   549819.91297752  -769747.87816853]\n",
      " [       0.                0.          -392728.50926966   549819.91297752\n",
      "  -2000000.                0.                0.                0.\n",
      "   4392728.50926966  -549819.91297752 -2000000.                0.        ]\n",
      " [       0.                0.           549819.91297752  -769747.87816853\n",
      "         0.                0.                0.         -1428571.42857143\n",
      "   -549819.91297752  2198319.30673996        0.                0.        ]\n",
      " [       0.                0.                0.                0.\n",
      "         0.                0.          -392728.50926966   549819.91297752\n",
      "  -2000000.                0.          2392728.50926966  -549819.91297752]\n",
      " [       0.                0.                0.                0.\n",
      "         0.                0.           549819.91297752  -769747.87816853\n",
      "         0.                0.          -549819.91297752   769747.87816853]]\n",
      "\n",
      "\n",
      "Displacement at Nodes in mm  \n",
      " [[ 0.     ]\n",
      " [ 0.     ]\n",
      " [21.876  ]\n",
      " [-3.50053]\n",
      " [ 1.11111]\n",
      " [-3.50053]\n",
      " [18.54266]\n",
      " [ 1.11958]\n",
      " [ 2.22222]\n",
      " [-5.41376]\n",
      " [ 0.     ]\n",
      " [ 0.     ]]\n",
      "\n",
      "\n",
      "Forces at Nodes in kN  \n",
      " [[ -8.889]\n",
      " [ -9.333]\n",
      " [ 20.   ]\n",
      " [  0.   ]\n",
      " [  0.   ]\n",
      " [  0.   ]\n",
      " [  0.   ]\n",
      " [  0.   ]\n",
      " [  0.   ]\n",
      " [  0.   ]\n",
      " [-11.111]\n",
      " [  9.333]]\n",
      "\n",
      "\n",
      "Forces in Members in kN  \n",
      " [[-11.47 ]\n",
      " [ -2.222]\n",
      " [ -0.   ]\n",
      " [  6.667]\n",
      " [-11.47 ]\n",
      " [ -2.222]\n",
      " [  9.333]\n",
      " [-11.47 ]\n",
      " [  4.444]]\n",
      "\n",
      "\n",
      "Stress in Members in kN/m2  \n",
      " [[-2293.953404]\n",
      " [ -444.444444]\n",
      " [   -0.      ]\n",
      " [ 1333.333334]\n",
      " [-2293.953404]\n",
      " [ -444.444444]\n",
      " [ 1866.666666]\n",
      " [-2293.953404]\n",
      " [  888.888888]]\n"
     ]
    }
   ],
   "source": [
    "#write solution here\n",
    "# Units: m,N\n",
    "#creates a list of member lengths\n",
    "#the indicies of the list represents the member number as decided\n",
    "\n",
    "def length_of_mem(nodes, numbering):\n",
    "    mem_len=[]\n",
    "    for i in range(len(numbering)):\n",
    "        x1=nodes [numbering[i][0]-1][0]\n",
    "        x2=nodes [numbering[i][1]-1][0]\n",
    "        y1=nodes [numbering[i][0]-1][1]\n",
    "        y2=nodes [numbering[i][1]-1][1]\n",
    "        len_of_mem =np.sqrt( (x2-x1)**2 +(y2-y1)**2 )\n",
    "        mem_len.append(len_of_mem )\n",
    "    return mem_len\n",
    "\n",
    "\n",
    "nodes= [(0,0), (5,7), (5,0), (10,7), (10,0), (15,0) ]   #node coordinates\n",
    "\n",
    "numbering =[(1,2), (1,3), (2,3), (2,4), (2,5), (3,5), (4,5), (4,6),(5,6)] #Element Global Numbering\n",
    "\n",
    "\n",
    "\n",
    "hypo =np.sqrt(5*5 +7*7)\n",
    "cos_theta=5/hypo \n",
    "sin_theta=7/hypo \n",
    "\n",
    "directions= np.array([ [cos_theta,sin_theta], [1,0], [0,1], [1,0], [-cos_theta,sin_theta], [1,0], [0,1], [-cos_theta,sin_theta], [1,0] ])\n",
    "\n",
    "#total degrees of freedom = total nodes *2\n",
    "tota_dof= len(nodes)*2\n",
    "unres_dof=8    #these are total known dofs.\n",
    "seq_of_dof=[2,3,4,5,6,7,8,9,0,1,10,11]  #write the ID of dofs such that the they are divided into unknown dofs and known dofs\n",
    "                                    #here, since free_dofs =8, therefore first 8 in seq_of_dof represent\n",
    "                                    #known displacements (u-known) and rest are unknown\n",
    "\n",
    "#Cross sectional properties\n",
    "E=2e+9\n",
    "A=0.005\n",
    "\n",
    "\n",
    "#caclualte the length of members \n",
    "L_array=length_of_mem(nodes, numbering)\n",
    "\n",
    "#Initialize the member stiffness matricies into a single variable\n",
    "#K_mem_local  [member stiiffness] will be of shape ----number of members *4 *4\n",
    "K_mem_local =np.zeros(((len(L_array)),4,4))\n",
    "\n",
    "for i in range(len(L_array)):\n",
    "    hypo ,d =directions[i]\n",
    "    K_mem_local [i]= np.array([[hypo **2, hypo *d , -hypo **2, -hypo *d],[hypo *d, d**2, -hypo *d, -d**2],[-hypo **2, -hypo *d, hypo **2, hypo *d],[-hypo *d, -d**2, hypo *d, d**2 ]])\n",
    "    K_mem_local [i]=K_mem_local [i] * (A*E)/L_array[i]\n",
    "\n",
    "\n",
    "\n",
    "\n",
    "#to calcuate the dofs associated with each member.\n",
    "#dofs-label list stores the dofs of each member\n",
    "#eg. for the first member, the dofs are u0,u1,u2,u2 stored as [0,1,2,3] in the numbering_dof array\n",
    "\n",
    "\n",
    "numbering_dof=[]\n",
    "dofs=np.array([ [1,2], [3,4], [5,6],[7,8], [9,10], [11,12] ])\n",
    "for x in range(len(numbering)):\n",
    "    i,j =numbering[x]\n",
    "    m_m = np.concatenate([dofs[i-1],dofs[j-1]])-1\n",
    "    numbering_dof.append(m_m.tolist())\n",
    "\n",
    "\n",
    "##GLOBAL STIFFNESS MATRIX K_global\n",
    "    ##initialized to the size of tota_dof*tota_dof\n",
    "\n",
    "K_global= np.zeros((tota_dof,tota_dof))\n",
    "\n",
    "##By using the member stiffness matrix K_mem_local , the global stiffness matrix is calucated as K\n",
    "for i in range(K_mem_local .shape[0]):\n",
    "    for j in range(4):\n",
    "        for k in range(4):\n",
    "            x=int(numbering_dof[i][k])\n",
    "            y=int(numbering_dof[i][j])         \n",
    "            K_global[x,y]= (K_global[x,y]+K_mem_local [i,j,k])\n",
    "#Printing K_global\n",
    "print(f'Global Stiffness matrix   \\n {K_global}')\n",
    "\n",
    "### MEMBER FORCES AND NODAL DISPLACEMENTS\n",
    "\n",
    "##Member forces force and nodal displacements as disp            \n",
    "force=np.zeros((tota_dof,))\n",
    "disp =np.zeros((tota_dof,))\n",
    "\n",
    "#Intital condtion of 20KN load along the u3 dofs. \n",
    "\n",
    "force[2]=20e3\n",
    "\n",
    "##Shuffle the K_global matrix and force such that it is divided into known DOfs and Unknown DOfs in terms of nodal displacements\n",
    "# the shuffle is done as per seq_of_dof which specifies the the nodal displacements  \"disp:= [U_unknows, U_knowns]\"\"\n",
    "K_global[:,:]=K_global[seq_of_dof,:]\n",
    "K_global[:,:]=K_global[:,seq_of_dof]\n",
    "\n",
    "force[:,]=force[[2,3,4,5,6,7,8,9,0,1,10,11],]\n",
    "\n",
    "#packing the force as P_knowns(p_k) and P_unknowns(p_u) [force]:=[p_k,p_u].  Same for disp [disp]:=[u_u,u_k] \n",
    "X_x=unres_dof\n",
    "p_k=force[:X_x,]\n",
    "p_u=force[X_x:,]\n",
    "u_k=disp[X_x:,]  \n",
    "u_u=disp[:X_x,]\n",
    "\n",
    "#Breaking the shuffled matrix as per u_u and u_k\n",
    "K_11=K_global[:X_x,:X_x]\n",
    "K_12=K_global[:X_x,X_x:]\n",
    "K_21=K_global[X_x:,:X_x]\n",
    "K_22=K_global[X_x:,X_x:]\n",
    "\n",
    "\n",
    "#calculate u_u(disp-unknowns). u_u= inverse(K_11)*p_k\n",
    "u_u= np.matmul(np.linalg.inv(K_11),p_k)\n",
    "p_u=np.matmul(K_21,u_u)\n",
    "\n",
    "#Updating the disp and force arrays with calculted values\n",
    "u_u=np.concatenate((u_u,u_k), axis=0)\n",
    "FF_1=np.round(np.concatenate((p_k,p_u), axis=0),6)\n",
    "FF_2=np.round(np.concatenate((p_k,p_u), axis=0),6)\n",
    "\n",
    "#shuffling the disp and force to their original sequence as [disp]=[U0,U1,U2,U3....] and [force]=[P1,P2,P3......]\n",
    "u_u[2:10,]=u_u[:8,]\n",
    "u_u[0]=0\n",
    "u_u[1]=0\n",
    "disp_at_nodes=np.vstack(u_u)\n",
    "\n",
    "\n",
    "FF_1[2:10,]=FF_2[:8,]\n",
    "FF_1[0]=FF_2[-4]\n",
    "FF_1[1]=FF_2[-3]\n",
    "forces_at_nodes= np.vstack(FF_1)\n",
    "\n",
    "\n",
    "\n",
    "#This function calculates the member forces for each member\n",
    "def force_mem(u,m=0, A=0.005,E=2e9):\n",
    "    u=np.transpose(u)\n",
    "    lamdas=directions[m]\n",
    "    hypo =lamdas[0]\n",
    "    d=lamdas[1]\n",
    "    F=np.zeros((2,))\n",
    "    t_matrix= np.zeros((2,4))\n",
    "    alpha=(A*E)/L_array[m]\n",
    "    t_matrix= alpha* np.array([ [hypo ,d,-hypo ,-d],[-hypo ,-d,hypo ,d]])\n",
    "    F= np.matmul(t_matrix,u)\n",
    "    return F\n",
    "\n",
    "forces= np.zeros( (2,(len(L_array))) )\n",
    "for i in range(len(L_array)):\n",
    "    forces[:,i]= np.round(force_mem(u_u[numbering_dof[i]] ,m=i),5)\n",
    "    forces_in_mem= np.vstack(np.array(forces[0]))\n",
    "\n",
    "###printing member forces, nodal forces and nodal dispalcements\n",
    "print('\\n')\n",
    "print(f'Displacement at Nodes in mm  \\n {np.round(disp_at_nodes*1000,5)}')\n",
    "print('\\n')\n",
    "print(f'Forces at Nodes in kN  \\n {np.round(forces_at_nodes/1000,3)}')\n",
    "print('\\n')\n",
    "print(f'Forces in Members in kN  \\n {np.round(forces_in_mem/1000,3)}')\n",
    "print('\\n')\n",
    "print(f'Stress in Members in kN/m2  \\n {forces_in_mem/(A*1000)}')\n",
    "\n"
   ]
  },
  {
   "cell_type": "code",
   "execution_count": 15,
   "metadata": {},
   "outputs": [
    {
     "data": {
      "image/png": "[encoded data removed]",
      "text/plain": [
       "<Figure size 450x300 with 1 Axes>"
      ]
     },
     "metadata": {
      "needs_background": "light"
     },
     "output_type": "display_data"
    }
   ],
   "source": [
    "#write solution here\n",
    "\n",
    "from matplotlib.pyplot import figure\n",
    "figure(figsize=(9, 6), dpi=50)\n",
    "\n",
    "\n",
    "nx=disp_at_nodes[::2]\n",
    "ny=disp_at_nodes[1::2]\n",
    "new_cordinates=[]\n",
    "\n",
    "#for better visualiztion the displacements are amplified by 30\n",
    "factor=30\n",
    "\n",
    "\n",
    "\n",
    "for i in range(len(nodes)):\n",
    "    new_cordinates.append((nodes[i][0]+factor*nx[i][0],nodes[i][1]+factor*ny[i][0]))\n",
    "\n",
    "\n",
    "n_cod=nodes\n",
    "conec=numbering\n",
    "n_cod2=new_cordinates\n",
    "x=list()\n",
    "y=list()\n",
    "xx=list()\n",
    "yy=list()\n",
    "for i in range(len(conec)):\n",
    "    x1,x2=n_cod2 [conec[i][0]-1][0],n_cod2 [conec[i][1]-1][0]\n",
    "    y1,y2=n_cod2 [conec[i][0]-1][1],n_cod2 [conec[i][1]-1][1]\n",
    "    x.append(x1), x.append(x2),y.append(y1),y.append(y2)\n",
    "    \n",
    "    xx1,xx2=n_cod [conec[i][0]-1][0],n_cod [conec[i][1]-1][0]\n",
    "    yy1,yy2=n_cod [conec[i][0]-1][1],n_cod [conec[i][1]-1][1]\n",
    "    xx.append(xx1),xx.append(xx2),yy.append(yy1),yy.append(yy2)\n",
    "plt.plot(xx,yy,'-go',linewidth=1,label='UNDEFORMED')\n",
    "plt.plot(x,y,'-.ro',linewidth=2,label='DEFORMED')\n",
    "plt.legend()\n",
    "# plt.savefig(\"truss\")\n",
    "plt.show()"
   ]
  },
  {
   "cell_type": "code",
   "execution_count": null,
   "metadata": {},
   "outputs": [],
   "source": []
  }
 ],
 "metadata": {
  "interpreter": {
   "hash": "3a4da2a0a207ab4f2af192d9b213e2ff263d19d66126d4eefdb4e657cc3cd3bc"
  },
  "kernelspec": {
   "display_name": "Python 3",
   "language": "python",
   "name": "python3"
  },
  "language_info": {
   "codemirror_mode": {
    "name": "ipython",
    "version": 3
   },
   "file_extension": ".py",
   "mimetype": "text/x-python",
   "name": "python",
   "nbconvert_exporter": "python",
   "pygments_lexer": "ipython3",
   "version": "3.8.5"
  }
 },
 "nbformat": 4,
 "nbformat_minor": 4
}
